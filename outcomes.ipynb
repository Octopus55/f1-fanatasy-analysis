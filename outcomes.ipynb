{
  "cells": [
    {
      "cell_type": "markdown",
      "metadata": {},
      "source": [
        "# F1-Analysis for the 2024 Miami Grand Prix\n",
        "\n",
        "## Track Layout / Information\n",
        "\n",
        "![track layout and speeds](track.png){fig-align=\"center\"}\n",
        "\n",
        "Analysis for conducted using a logistic regression with 30 features\n",
        "for additional information about the modeling process, please send me a \n",
        "message on GitHub issues\n",
        "\n",
        "## Top3 Finishing Position Predictions\n",
        "\n",
        "The table below presents odds of placing in the top 3 positions for each \n",
        "of the drivers in the current standings for F1. \n"
      ],
      "id": "eef314a3"
    },
    {
      "cell_type": "code",
      "metadata": {},
      "source": [
        "#| echo: false\n",
        "import pandas as pd\n",
        "\n",
        "results = pd.read_csv(\"new_results.csv\")\n",
        "results.sort_values(by=\"prob of top 3 finish\", ascending=False)"
      ],
      "id": "461106ff",
      "execution_count": null,
      "outputs": []
    },
    {
      "cell_type": "markdown",
      "metadata": {},
      "source": [
        "We can see here that the top 3 predicted finishers are:\n",
        "    \n",
        "+ Max Verstappen : probability of top 3 finish - 99.51%\n",
        "+ Sergio Perez : probability of top 3 finish - 99.17%\n",
        "+ Charles Leclerc : probability of top 3 finish - 53.41%\n"
      ],
      "id": "4bdd20ff"
    }
  ],
  "metadata": {
    "kernelspec": {
      "name": "python3",
      "language": "python",
      "display_name": "Python 3 (ipykernel)"
    }
  },
  "nbformat": 4,
  "nbformat_minor": 5
}