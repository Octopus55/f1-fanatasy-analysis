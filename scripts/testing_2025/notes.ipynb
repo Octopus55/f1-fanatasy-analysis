{
 "cells": [
  {
   "cell_type": "markdown",
   "metadata": {},
   "source": [
    "# Bahrain Testing Analysis: Day 1"
   ]
  },
  {
   "cell_type": "code",
   "execution_count": 1,
   "metadata": {},
   "outputs": [],
   "source": [
    "import pandas as pd\n",
    "import fastf1\n",
    "import fastf1.plotting\n",
    "from matplotlib import pyplot as plt\n",
    "import seaborn as sns\n",
    "from matplotlib.colors import LinearSegmentedColormap\n",
    "import os"
   ]
  },
  {
   "cell_type": "code",
   "execution_count": 2,
   "metadata": {},
   "outputs": [
    {
     "name": "stderr",
     "output_type": "stream",
     "text": [
      "req         WARNING \tDEFAULT CACHE ENABLED! (2.83 GB) /home/jjl20011/.cache/fastf1\n"
     ]
    }
   ],
   "source": [
    "year = 2025\n",
    "event_sched = fastf1.get_event_schedule(year)"
   ]
  },
  {
   "cell_type": "code",
   "execution_count": 14,
   "metadata": {},
   "outputs": [],
   "source": [
    "testing = fastf1.get_testing_session(2025,1,2)"
   ]
  },
  {
   "cell_type": "code",
   "execution_count": 3,
   "metadata": {},
   "outputs": [
    {
     "data": {
      "text/plain": [
       "'/static/2025/2025-02-28_Pre-Season_Testing/2025-02-28_Day_3/'"
      ]
     },
     "execution_count": 3,
     "metadata": {},
     "output_type": "execute_result"
    }
   ],
   "source": [
    "testing.api_path"
   ]
  },
  {
   "cell_type": "code",
   "execution_count": 15,
   "metadata": {},
   "outputs": [
    {
     "name": "stderr",
     "output_type": "stream",
     "text": [
      "core           INFO \tLoading data for Pre-Season Testing - Practice 2 [v3.4.5]\n",
      "req            INFO \tUsing cached data for session_info\n",
      "req            INFO \tUsing cached data for driver_info\n",
      "req            INFO \tUsing cached data for session_status_data\n",
      "req            INFO \tUsing cached data for track_status_data\n",
      "req            INFO \tUsing cached data for _extended_timing_data\n",
      "req            INFO \tUsing cached data for timing_app_data\n",
      "core           INFO \tProcessing timing data...\n",
      "req            INFO \tUsing cached data for car_data\n",
      "req            INFO \tUsing cached data for position_data\n",
      "req            INFO \tUsing cached data for weather_data\n",
      "core           INFO \tFinished loading data for 18 drivers: ['4', '5', '6', '7', '10', '12', '14', '16', '18', '22', '27', '30', '31', '44', '55', '63', '81', '87']\n"
     ]
    }
   ],
   "source": [
    "testing.load(laps=True, messages=False)"
   ]
  },
  {
   "cell_type": "code",
   "execution_count": 5,
   "metadata": {},
   "outputs": [],
   "source": [
    "# NOTE: MUST USE SEABORN 0.12.2\n",
    "def plot_driver(\n",
    "    laps_data, \n",
    "    driver='LEC',\n",
    "    folder='',\n",
    "    file_output='leclerc.pdf',\n",
    "    session='day1'\n",
    "):\n",
    "    plt.clf()\n",
    "    laps = laps_data.laps.pick_drivers(driver).pick_quicklaps()\n",
    "    laps['LapTimeSec'] = laps['LapTime'].dt.total_seconds()\n",
    "    fig, ax = plt.subplots(figsize=(8,8))\n",
    "    # sns.set_theme(style='darkgrid')\n",
    "    tire_palette = {'HARD':'#FFFFFF', 'MEDIUM':'#FFC906', 'SOFT':'#CC1E4A'}\n",
    "    cmap_vals = LinearSegmentedColormap.from_list(\"green_red\", [\"green\", \"red\"])\n",
    "\n",
    "    x = sns.scatterplot(\n",
    "        data=laps,\n",
    "        x='LapNumber',\n",
    "        y='LapTimeSec',\n",
    "        palette=cmap_vals,\n",
    "        ax=ax,\n",
    "        hue=\"TyreLife\",\n",
    "        s=80,\n",
    "        linewidth=1.5,\n",
    "        legend='auto',\n",
    "        edgecolor=laps['Compound'].map(tire_palette)\n",
    "    )\n",
    "    \n",
    "    # for i, path in enumerate(x.collections[0].get_paths()):\n",
    "    #     edge_color = tire_palette[laps.loc[i, 'Compound']]\n",
    "    #     path.set_edgecolor(edge_color)\n",
    "        \n",
    "    # plt.colorbar(label='TyreLife')\n",
    "    ax.set_facecolor(\"darkgray\")\n",
    "    ax.set_xlabel(\"Lap Number\")\n",
    "    ax.set_ylabel(\"Lap Time\")\n",
    "\n",
    "    for x in laps['Stint'].unique():\n",
    "        start_lap = laps.loc[laps['Stint']==x,'LapNumber'].min()\n",
    "        fin_lap = laps.loc[laps['Stint']==x,'LapNumber'].max()\n",
    "        if start_lap == fin_lap:\n",
    "            plt.axvline(x=fin_lap, color='purple', linestyle='--', linewidth=1)\n",
    "        else:\n",
    "            plt.axvline(x=start_lap, color='blue', linestyle='--', linewidth=1)\n",
    "            plt.axvline(x=fin_lap, color='red', linestyle='--', linewidth=1)\n",
    "\n",
    "    # plt.grid(color='w', which='major', axis='both')\n",
    "    plt.ylim(88,99)\n",
    "    plt.title(\"{} testing {} results\".format(driver, session))\n",
    "    sns.despine(left=True, bottom=True)\n",
    "    plt.tight_layout()\n",
    "    if folder not in os.listdir():\n",
    "        os.mkdir(folder)\n",
    "        \n",
    "    # plt.show()\n",
    "    print(\"[INFO]: file path = {}\".format(f'{folder}/{file_output}'))\n",
    "    plt.savefig(\"{}/{}\".format(folder, file_output))\n",
    "    plt.close()"
   ]
  },
  {
   "cell_type": "code",
   "execution_count": 7,
   "metadata": {},
   "outputs": [
    {
     "name": "stderr",
     "output_type": "stream",
     "text": [
      "/tmp/ipykernel_198452/2269516314.py:11: SettingWithCopyWarning: \n",
      "A value is trying to be set on a copy of a slice from a DataFrame.\n",
      "Try using .loc[row_indexer,col_indexer] = value instead\n",
      "\n",
      "See the caveats in the documentation: https://pandas.pydata.org/pandas-docs/stable/user_guide/indexing.html#returning-a-view-versus-a-copy\n",
      "  laps['LapTimeSec'] = laps['LapTime'].dt.total_seconds()\n"
     ]
    },
    {
     "name": "stdout",
     "output_type": "stream",
     "text": [
      "[INFO]: file path = day2/LEC.pdf\n"
     ]
    },
    {
     "data": {
      "text/plain": [
       "<Figure size 640x480 with 0 Axes>"
      ]
     },
     "metadata": {},
     "output_type": "display_data"
    }
   ],
   "source": [
    "plot_driver(laps_data=testing, driver='LEC', folder='day2', file_output='LEC.pdf', session='day2')"
   ]
  },
  {
   "cell_type": "code",
   "execution_count": 16,
   "metadata": {},
   "outputs": [
    {
     "name": "stderr",
     "output_type": "stream",
     "text": [
      "/tmp/ipykernel_250093/2269516314.py:11: SettingWithCopyWarning: \n",
      "A value is trying to be set on a copy of a slice from a DataFrame.\n",
      "Try using .loc[row_indexer,col_indexer] = value instead\n",
      "\n",
      "See the caveats in the documentation: https://pandas.pydata.org/pandas-docs/stable/user_guide/indexing.html#returning-a-view-versus-a-copy\n",
      "  laps['LapTimeSec'] = laps['LapTime'].dt.total_seconds()\n",
      "/tmp/ipykernel_250093/2269516314.py:11: SettingWithCopyWarning: \n",
      "A value is trying to be set on a copy of a slice from a DataFrame.\n",
      "Try using .loc[row_indexer,col_indexer] = value instead\n",
      "\n",
      "See the caveats in the documentation: https://pandas.pydata.org/pandas-docs/stable/user_guide/indexing.html#returning-a-view-versus-a-copy\n",
      "  laps['LapTimeSec'] = laps['LapTime'].dt.total_seconds()\n"
     ]
    },
    {
     "name": "stdout",
     "output_type": "stream",
     "text": [
      "[INFO]: file path = day2/NOR.pdf\n",
      "[INFO]: file path = day2/BOR.pdf\n"
     ]
    },
    {
     "name": "stderr",
     "output_type": "stream",
     "text": [
      "/tmp/ipykernel_250093/2269516314.py:11: SettingWithCopyWarning: \n",
      "A value is trying to be set on a copy of a slice from a DataFrame.\n",
      "Try using .loc[row_indexer,col_indexer] = value instead\n",
      "\n",
      "See the caveats in the documentation: https://pandas.pydata.org/pandas-docs/stable/user_guide/indexing.html#returning-a-view-versus-a-copy\n",
      "  laps['LapTimeSec'] = laps['LapTime'].dt.total_seconds()\n",
      "/tmp/ipykernel_250093/2269516314.py:11: SettingWithCopyWarning: \n",
      "A value is trying to be set on a copy of a slice from a DataFrame.\n",
      "Try using .loc[row_indexer,col_indexer] = value instead\n",
      "\n",
      "See the caveats in the documentation: https://pandas.pydata.org/pandas-docs/stable/user_guide/indexing.html#returning-a-view-versus-a-copy\n",
      "  laps['LapTimeSec'] = laps['LapTime'].dt.total_seconds()\n"
     ]
    },
    {
     "name": "stdout",
     "output_type": "stream",
     "text": [
      "[INFO]: file path = day2/HAD.pdf\n",
      "[INFO]: file path = day2/DOO.pdf\n",
      "[INFO]: file path = day2/GAS.pdf\n"
     ]
    },
    {
     "name": "stderr",
     "output_type": "stream",
     "text": [
      "/tmp/ipykernel_250093/2269516314.py:11: SettingWithCopyWarning: \n",
      "A value is trying to be set on a copy of a slice from a DataFrame.\n",
      "Try using .loc[row_indexer,col_indexer] = value instead\n",
      "\n",
      "See the caveats in the documentation: https://pandas.pydata.org/pandas-docs/stable/user_guide/indexing.html#returning-a-view-versus-a-copy\n",
      "  laps['LapTimeSec'] = laps['LapTime'].dt.total_seconds()\n",
      "/tmp/ipykernel_250093/2269516314.py:11: SettingWithCopyWarning: \n",
      "A value is trying to be set on a copy of a slice from a DataFrame.\n",
      "Try using .loc[row_indexer,col_indexer] = value instead\n",
      "\n",
      "See the caveats in the documentation: https://pandas.pydata.org/pandas-docs/stable/user_guide/indexing.html#returning-a-view-versus-a-copy\n",
      "  laps['LapTimeSec'] = laps['LapTime'].dt.total_seconds()\n"
     ]
    },
    {
     "name": "stdout",
     "output_type": "stream",
     "text": [
      "[INFO]: file path = day2/ANT.pdf\n",
      "[INFO]: file path = day2/ALO.pdf\n"
     ]
    },
    {
     "name": "stderr",
     "output_type": "stream",
     "text": [
      "/tmp/ipykernel_250093/2269516314.py:11: SettingWithCopyWarning: \n",
      "A value is trying to be set on a copy of a slice from a DataFrame.\n",
      "Try using .loc[row_indexer,col_indexer] = value instead\n",
      "\n",
      "See the caveats in the documentation: https://pandas.pydata.org/pandas-docs/stable/user_guide/indexing.html#returning-a-view-versus-a-copy\n",
      "  laps['LapTimeSec'] = laps['LapTime'].dt.total_seconds()\n",
      "/tmp/ipykernel_250093/2269516314.py:11: SettingWithCopyWarning: \n",
      "A value is trying to be set on a copy of a slice from a DataFrame.\n",
      "Try using .loc[row_indexer,col_indexer] = value instead\n",
      "\n",
      "See the caveats in the documentation: https://pandas.pydata.org/pandas-docs/stable/user_guide/indexing.html#returning-a-view-versus-a-copy\n",
      "  laps['LapTimeSec'] = laps['LapTime'].dt.total_seconds()\n"
     ]
    },
    {
     "name": "stdout",
     "output_type": "stream",
     "text": [
      "[INFO]: file path = day2/LEC.pdf\n",
      "[INFO]: file path = day2/STR.pdf\n"
     ]
    },
    {
     "name": "stderr",
     "output_type": "stream",
     "text": [
      "/tmp/ipykernel_250093/2269516314.py:11: SettingWithCopyWarning: \n",
      "A value is trying to be set on a copy of a slice from a DataFrame.\n",
      "Try using .loc[row_indexer,col_indexer] = value instead\n",
      "\n",
      "See the caveats in the documentation: https://pandas.pydata.org/pandas-docs/stable/user_guide/indexing.html#returning-a-view-versus-a-copy\n",
      "  laps['LapTimeSec'] = laps['LapTime'].dt.total_seconds()\n",
      "/tmp/ipykernel_250093/2269516314.py:11: SettingWithCopyWarning: \n",
      "A value is trying to be set on a copy of a slice from a DataFrame.\n",
      "Try using .loc[row_indexer,col_indexer] = value instead\n",
      "\n",
      "See the caveats in the documentation: https://pandas.pydata.org/pandas-docs/stable/user_guide/indexing.html#returning-a-view-versus-a-copy\n",
      "  laps['LapTimeSec'] = laps['LapTime'].dt.total_seconds()\n"
     ]
    },
    {
     "name": "stdout",
     "output_type": "stream",
     "text": [
      "[INFO]: file path = day2/TSU.pdf\n",
      "[INFO]: file path = day2/HUL.pdf\n"
     ]
    },
    {
     "name": "stderr",
     "output_type": "stream",
     "text": [
      "/tmp/ipykernel_250093/2269516314.py:11: SettingWithCopyWarning: \n",
      "A value is trying to be set on a copy of a slice from a DataFrame.\n",
      "Try using .loc[row_indexer,col_indexer] = value instead\n",
      "\n",
      "See the caveats in the documentation: https://pandas.pydata.org/pandas-docs/stable/user_guide/indexing.html#returning-a-view-versus-a-copy\n",
      "  laps['LapTimeSec'] = laps['LapTime'].dt.total_seconds()\n",
      "/tmp/ipykernel_250093/2269516314.py:11: SettingWithCopyWarning: \n",
      "A value is trying to be set on a copy of a slice from a DataFrame.\n",
      "Try using .loc[row_indexer,col_indexer] = value instead\n",
      "\n",
      "See the caveats in the documentation: https://pandas.pydata.org/pandas-docs/stable/user_guide/indexing.html#returning-a-view-versus-a-copy\n",
      "  laps['LapTimeSec'] = laps['LapTime'].dt.total_seconds()\n"
     ]
    },
    {
     "name": "stdout",
     "output_type": "stream",
     "text": [
      "[INFO]: file path = day2/LAW.pdf\n",
      "[INFO]: file path = day2/OCO.pdf\n"
     ]
    },
    {
     "name": "stderr",
     "output_type": "stream",
     "text": [
      "/tmp/ipykernel_250093/2269516314.py:11: SettingWithCopyWarning: \n",
      "A value is trying to be set on a copy of a slice from a DataFrame.\n",
      "Try using .loc[row_indexer,col_indexer] = value instead\n",
      "\n",
      "See the caveats in the documentation: https://pandas.pydata.org/pandas-docs/stable/user_guide/indexing.html#returning-a-view-versus-a-copy\n",
      "  laps['LapTimeSec'] = laps['LapTime'].dt.total_seconds()\n",
      "/tmp/ipykernel_250093/2269516314.py:11: SettingWithCopyWarning: \n",
      "A value is trying to be set on a copy of a slice from a DataFrame.\n",
      "Try using .loc[row_indexer,col_indexer] = value instead\n",
      "\n",
      "See the caveats in the documentation: https://pandas.pydata.org/pandas-docs/stable/user_guide/indexing.html#returning-a-view-versus-a-copy\n",
      "  laps['LapTimeSec'] = laps['LapTime'].dt.total_seconds()\n"
     ]
    },
    {
     "name": "stdout",
     "output_type": "stream",
     "text": [
      "[INFO]: file path = day2/HAM.pdf\n",
      "[INFO]: file path = day2/SAI.pdf\n"
     ]
    },
    {
     "name": "stderr",
     "output_type": "stream",
     "text": [
      "/tmp/ipykernel_250093/2269516314.py:11: SettingWithCopyWarning: \n",
      "A value is trying to be set on a copy of a slice from a DataFrame.\n",
      "Try using .loc[row_indexer,col_indexer] = value instead\n",
      "\n",
      "See the caveats in the documentation: https://pandas.pydata.org/pandas-docs/stable/user_guide/indexing.html#returning-a-view-versus-a-copy\n",
      "  laps['LapTimeSec'] = laps['LapTime'].dt.total_seconds()\n",
      "/tmp/ipykernel_250093/2269516314.py:11: SettingWithCopyWarning: \n",
      "A value is trying to be set on a copy of a slice from a DataFrame.\n",
      "Try using .loc[row_indexer,col_indexer] = value instead\n",
      "\n",
      "See the caveats in the documentation: https://pandas.pydata.org/pandas-docs/stable/user_guide/indexing.html#returning-a-view-versus-a-copy\n",
      "  laps['LapTimeSec'] = laps['LapTime'].dt.total_seconds()\n"
     ]
    },
    {
     "name": "stdout",
     "output_type": "stream",
     "text": [
      "[INFO]: file path = day2/RUS.pdf\n",
      "[INFO]: file path = day2/PIA.pdf\n"
     ]
    },
    {
     "name": "stderr",
     "output_type": "stream",
     "text": [
      "/tmp/ipykernel_250093/2269516314.py:11: SettingWithCopyWarning: \n",
      "A value is trying to be set on a copy of a slice from a DataFrame.\n",
      "Try using .loc[row_indexer,col_indexer] = value instead\n",
      "\n",
      "See the caveats in the documentation: https://pandas.pydata.org/pandas-docs/stable/user_guide/indexing.html#returning-a-view-versus-a-copy\n",
      "  laps['LapTimeSec'] = laps['LapTime'].dt.total_seconds()\n",
      "/tmp/ipykernel_250093/2269516314.py:11: SettingWithCopyWarning: \n",
      "A value is trying to be set on a copy of a slice from a DataFrame.\n",
      "Try using .loc[row_indexer,col_indexer] = value instead\n",
      "\n",
      "See the caveats in the documentation: https://pandas.pydata.org/pandas-docs/stable/user_guide/indexing.html#returning-a-view-versus-a-copy\n",
      "  laps['LapTimeSec'] = laps['LapTime'].dt.total_seconds()\n"
     ]
    },
    {
     "name": "stdout",
     "output_type": "stream",
     "text": [
      "[INFO]: file path = day2/BEA.pdf\n"
     ]
    },
    {
     "data": {
      "text/plain": [
       "<Figure size 640x480 with 0 Axes>"
      ]
     },
     "metadata": {},
     "output_type": "display_data"
    }
   ],
   "source": [
    "for driver in testing.laps['Driver'].unique():\n",
    "    try:\n",
    "        plot_driver(testing, driver, folder='day2', file_output=f'{driver}.pdf')\n",
    "    except:\n",
    "        print(\"[DEBUG]: driver {} caused an exception\".format(driver))"
   ]
  },
  {
   "cell_type": "code",
   "execution_count": 17,
   "metadata": {},
   "outputs": [],
   "source": [
    "# read in all of the pdfs and stitch them together by teammate \n",
    "# pairing\n",
    "\n",
    "teams = {\n",
    "    \"williams\": ['ALB', 'SAI'],\n",
    "    \"sauber\": ['HUL', 'BOR'],\n",
    "    \"racing_bulls\": ['TSU', 'HAD'],\n",
    "    \"haas\": ['OCO', 'BEA'],\n",
    "    \"aston_martin\": ['STR', 'ALO'],\n",
    "    \"alpine\": ['GAS', 'DOO'],\n",
    "    \"mercedes\": ['RUS', 'ANT'],\n",
    "    \"red_bull\": ['VER', 'LAW'],\n",
    "    \"ferrari\": ['LEC', 'HAM'],\n",
    "    \"mclaren\": ['NOR', 'PIA']\n",
    "}\n",
    "\n",
    "# from PyPDF2 import PdfReader\n",
    "# from reportlab.lib.pagesizes import letter\n",
    "# from reportlab.pdfgen import canvas\n",
    "# import io\n",
    "\n",
    "# def stitch_pdfs(input_files, output_file, grid_sizes):\n",
    "#     c = canvas.Canvas(output_file, pagesize=letter)\n",
    "#     width, height = letter\n",
    "    \n",
    "#     file_index = 0\n",
    "#     for grid_size in grid_sizes:\n",
    "#         grid_width, grid_height = grid_size\n",
    "#         for i in range(grid_width * grid_height):\n",
    "#             if file_index >= len(input_files):\n",
    "#                 break\n",
    "#             reader = PdfReader(input_files[file_index])\n",
    "#             page = reader.pages[0]\n",
    "#             page_bytes = io.BytesIO(page.extract_test().encode(\"utf-8\"))\n",
    "#             x = (i % grid_width) * (width / grid_width)\n",
    "#             y = height - ((i // grid_width) + 1) * (height / grid_height)\n",
    "#             c.drawImage(page_bytes, x, y, width/grid_width, height/grid_height)\n",
    "#             file_index += 1\n",
    "#         c.showPage()\n",
    "#     c.save()"
   ]
  },
  {
   "cell_type": "code",
   "execution_count": 18,
   "metadata": {},
   "outputs": [],
   "source": [
    "def get_file_list(day='day2'):\n",
    "    files = []\n",
    "    for t in teams:\n",
    "        for d in teams[t]:\n",
    "            if f'{d}.pdf' in os.listdir(day):\n",
    "                files.append('{}/{}.pdf'.format(day, d))\n",
    "            else:\n",
    "                files.append('na')\n",
    "    return files"
   ]
  },
  {
   "cell_type": "code",
   "execution_count": 19,
   "metadata": {},
   "outputs": [
    {
     "data": {
      "text/plain": [
       "['na',\n",
       " 'day2/SAI.pdf',\n",
       " 'day2/HUL.pdf',\n",
       " 'day2/BOR.pdf',\n",
       " 'day2/TSU.pdf',\n",
       " 'day2/HAD.pdf',\n",
       " 'day2/OCO.pdf',\n",
       " 'day2/BEA.pdf',\n",
       " 'day2/STR.pdf',\n",
       " 'day2/ALO.pdf',\n",
       " 'day2/GAS.pdf',\n",
       " 'day2/DOO.pdf',\n",
       " 'day2/RUS.pdf',\n",
       " 'day2/ANT.pdf',\n",
       " 'na',\n",
       " 'day2/LAW.pdf',\n",
       " 'day2/LEC.pdf',\n",
       " 'day2/HAM.pdf',\n",
       " 'day2/NOR.pdf',\n",
       " 'day2/PIA.pdf']"
      ]
     },
     "execution_count": 19,
     "metadata": {},
     "output_type": "execute_result"
    }
   ],
   "source": [
    "files = get_file_list('day2')\n",
    "files"
   ]
  },
  {
   "cell_type": "code",
   "execution_count": 11,
   "metadata": {},
   "outputs": [],
   "source": [
    "def write_latex_table_to_pdf(\n",
    "    table_shape=(2,2), \n",
    "    input_files=['hello.pdf'],\n",
    "    output_tex='output.tex',\n",
    "    folder='day1',\n",
    "    output_name='output'\n",
    "):\n",
    "    x=1\n",
    "    base_str = r'''\n",
    "\\documentclass{article}\n",
    "\\usepackage{graphicx}\n",
    "\\usepackage{array}\n",
    "\\usepackage[margin=0.2in]{geometry}\n",
    "\\begin{document}\n",
    "\n",
    "\n",
    "\\centering\n",
    "'''\n",
    "    table_size = r'   \\begin{tabular}{|'\n",
    "    for i in range(table_shape[1]):\n",
    "        table_size += r'c|'\n",
    "    table_size += r'}' + '\\n'\n",
    "    \n",
    "    base_str += table_size + r'      \\hline' + '\\n'\n",
    "    \n",
    "    idx = 0\n",
    "    w = 0.9/table_shape[0]\n",
    "    \n",
    "    for row in range(table_shape[0]):\n",
    "        row_str = '      '\n",
    "        for col in range(table_shape[1]):\n",
    "            if (idx < len(input_files)) and (input_files[idx] != 'na') : \n",
    "                row_str += r'\\includegraphics[width='+ f'{w}'  \\\n",
    "                        + r'\\linewidth]' + r'{' \\\n",
    "                        + f'{input_files[idx]}' + r'}'\n",
    "            if col < (table_shape[1] - 1):\n",
    "                row_str += r'&'\n",
    "            else:\n",
    "                row_str += r'\\\\' + '\\n'\n",
    "            idx += 1\n",
    "        \n",
    "        base_str += row_str\n",
    "    base_str += r'   \\end{tabular}' + '\\n'\n",
    "    # base_str += r'\\end{center}' + '\\n'\n",
    "    base_str += r'\\end{document}'\n",
    "            \n",
    "    print(base_str)\n",
    "    \n",
    "    with open(f'{output_name}.tex', 'w') as f:\n",
    "        f.write(base_str)\n",
    "    \n",
    "    os.system('make')\n",
    "    os.system('mv {}.tex {}'.format(output_name, folder))\n",
    "    os.system('mv {}.pdf {}'.format(output_name, folder))\n",
    "    for file in os.listdir():\n",
    "        if output_name in file: os.system('rm {}'.format(file))"
   ]
  },
  {
   "cell_type": "code",
   "execution_count": 20,
   "metadata": {},
   "outputs": [
    {
     "name": "stdout",
     "output_type": "stream",
     "text": [
      "\n",
      "\\documentclass{article}\n",
      "\\usepackage{graphicx}\n",
      "\\usepackage{array}\n",
      "\\usepackage[margin=0.2in]{geometry}\n",
      "\\begin{document}\n",
      "\n",
      "\n",
      "\\centering\n",
      "   \\begin{tabular}{|c|c|c|c|}\n",
      "      \\hline\n",
      "      &\\includegraphics[width=0.18\\linewidth]{day2/SAI.pdf}&\\includegraphics[width=0.18\\linewidth]{day2/HUL.pdf}&\\includegraphics[width=0.18\\linewidth]{day2/BOR.pdf}\\\\\n",
      "      \\includegraphics[width=0.18\\linewidth]{day2/TSU.pdf}&\\includegraphics[width=0.18\\linewidth]{day2/HAD.pdf}&\\includegraphics[width=0.18\\linewidth]{day2/OCO.pdf}&\\includegraphics[width=0.18\\linewidth]{day2/BEA.pdf}\\\\\n",
      "      \\includegraphics[width=0.18\\linewidth]{day2/STR.pdf}&\\includegraphics[width=0.18\\linewidth]{day2/ALO.pdf}&\\includegraphics[width=0.18\\linewidth]{day2/GAS.pdf}&\\includegraphics[width=0.18\\linewidth]{day2/DOO.pdf}\\\\\n",
      "      \\includegraphics[width=0.18\\linewidth]{day2/RUS.pdf}&\\includegraphics[width=0.18\\linewidth]{day2/ANT.pdf}&&\\includegraphics[width=0.18\\linewidth]{day2/LAW.pdf}\\\\\n",
      "      \\includegraphics[width=0.18\\linewidth]{day2/LEC.pdf}&\\includegraphics[width=0.18\\linewidth]{day2/HAM.pdf}&\\includegraphics[width=0.18\\linewidth]{day2/NOR.pdf}&\\includegraphics[width=0.18\\linewidth]{day2/PIA.pdf}\\\\\n",
      "   \\end{tabular}\n",
      "\\end{document}\n",
      "Rc files read:\n",
      "  NONE\n",
      "Latexmk: This is Latexmk, John Collins, 27 Dec. 2024. Version 4.86a.\n",
      "No existing .aux file, so I'll make a simple one, and require run of *latex.\n",
      "Latexmk: applying rule 'pdflatex'...\n",
      "Rule 'pdflatex':  Reasons for rerun\n",
      "Category 'other':\n",
      "  Rerun of 'pdflatex' forced or previously required:\n",
      "    Reason or flag: 'Initial setup'\n",
      "\n",
      "------------\n",
      "Run number 1 of rule 'pdflatex'\n",
      "------------\n",
      "------------\n",
      "Running 'pdflatex  -halt-on-error -recorder  \"output.tex\"'\n",
      "------------\n",
      "This is pdfTeX, Version 3.141592653-2.6-1.40.26 (TeX Live 2024) (preloaded format=pdflatex)\n",
      " restricted \\write18 enabled.\n",
      "entering extended mode\n",
      "(./output.tex\n",
      "LaTeX2e <2024-11-01> patch level 2\n",
      "L3 programming layer <2025-01-18>\n",
      "(/home/jjl20011/.TinyTeX/texmf-dist/tex/latex/base/article.cls\n",
      "Document Class: article 2024/06/29 v1.4n Standard LaTeX document class\n",
      "(/home/jjl20011/.TinyTeX/texmf-dist/tex/latex/base/size10.clo)) (/home/jjl20011/.TinyTeX/texmf-dist/tex/latex/graphics/graphicx.sty (/home/jjl20011/.TinyTeX/texmf-dist/tex/latex/graphics/keyval.sty) (/home/jjl20011/.TinyTeX/texmf-dist/tex/latex/graphics/graphics.sty (/home/jjl20011/.TinyTeX/texmf-dist/tex/latex/graphics/trig.sty) (/home/jjl20011/.TinyTeX/texmf-dist/tex/latex/graphics-cfg/graphics.cfg) (/home/jjl20011/.TinyTeX/texmf-dist/tex/latex/graphics-def/pdftex.def))) (/home/jjl20011/.TinyTeX/texmf-dist/tex/latex/tools/array.sty) (/home/jjl20011/.TinyTeX/texmf-dist/tex/latex/geometry/geometry.sty (/home/jjl20011/.TinyTeX/texmf-dist/tex/generic/iftex/ifvtex.sty (/home/jjl20011/.TinyTeX/texmf-dist/tex/generic/iftex/iftex.sty))) (/home/jjl20011/.TinyTeX/texmf-dist/tex/latex/l3backend/l3backend-pdftex.def) (./output.aux) (/home/jjl20011/.TinyTeX/texmf-dist/tex/latex/epstopdf-pkg/epstopdf-base.sty (/home/jjl20011/.TinyTeX/texmf-dist/tex/latex/latexconfig/epstopdf-sys.cfg))\n",
      "*geometry* driver: auto-detecting\n",
      "*geometry* detected driver: pdftex\n",
      "\n",
      "[1{/home/jjl20011/.TinyTeX/texmf-var/fonts/map/pdftex/updmap/pdftex.map} <./day2/SAI.pdf> <./day2/HUL.pdf> <./day2/BOR.pdf> <./day2/TSU.pdf> <./day2/HAD.pdf> <./day2/OCO.pdf> <./day2/BEA.pdf> <./day2/STR.pdf> <./day2/ALO.pdf> <./day2/GAS.pdf> <./day2/DOO.pdf> <./day2/RUS.pdf> <./day2/ANT.pdf> <./day2/LAW.pdf> <./day2/LEC.pdf> <./day2/HAM.pdf> <./day2/NOR.pdf> <./day2/PIA.pdf>] (./output.aux) )</home/jjl20011/.TinyTeX/texmf-dist/fonts/type1/public/amsfonts/cm/cmr10.pfb>\n",
      "Output written on output.pdf (1 page, 228430 bytes).\n",
      "Transcript written on output.log.\n",
      "Latexmk: Getting log file 'output.log'\n",
      "Latexmk: Examining 'output.fls'\n",
      "Latexmk: Examining 'output.log'\n",
      "Latexmk: Log file says output to 'output.pdf'\n",
      "Latexmk: All targets (output.pdf) are up-to-date\n",
      "\n"
     ]
    }
   ],
   "source": [
    "write_latex_table_to_pdf(table_shape=(5,4), folder='day2', input_files=files)"
   ]
  },
  {
   "cell_type": "markdown",
   "metadata": {},
   "source": [
    "# Analysis"
   ]
  },
  {
   "cell_type": "code",
   "execution_count": 32,
   "metadata": {},
   "outputs": [
    {
     "data": {
      "text/html": [
       "<div>\n",
       "<style scoped>\n",
       "    .dataframe tbody tr th:only-of-type {\n",
       "        vertical-align: middle;\n",
       "    }\n",
       "\n",
       "    .dataframe tbody tr th {\n",
       "        vertical-align: top;\n",
       "    }\n",
       "\n",
       "    .dataframe thead th {\n",
       "        text-align: right;\n",
       "    }\n",
       "</style>\n",
       "<table border=\"1\" class=\"dataframe\">\n",
       "  <thead>\n",
       "    <tr style=\"text-align: right;\">\n",
       "      <th></th>\n",
       "      <th>Time</th>\n",
       "      <th>Driver</th>\n",
       "      <th>DriverNumber</th>\n",
       "      <th>LapTime</th>\n",
       "      <th>LapNumber</th>\n",
       "      <th>Stint</th>\n",
       "      <th>PitOutTime</th>\n",
       "      <th>PitInTime</th>\n",
       "      <th>Sector1Time</th>\n",
       "      <th>Sector2Time</th>\n",
       "      <th>...</th>\n",
       "      <th>FreshTyre</th>\n",
       "      <th>Team</th>\n",
       "      <th>LapStartTime</th>\n",
       "      <th>LapStartDate</th>\n",
       "      <th>TrackStatus</th>\n",
       "      <th>Position</th>\n",
       "      <th>Deleted</th>\n",
       "      <th>DeletedReason</th>\n",
       "      <th>FastF1Generated</th>\n",
       "      <th>IsAccurate</th>\n",
       "    </tr>\n",
       "  </thead>\n",
       "  <tbody>\n",
       "    <tr>\n",
       "      <th>1</th>\n",
       "      <td>0 days 06:14:31.374000</td>\n",
       "      <td>NOR</td>\n",
       "      <td>4</td>\n",
       "      <td>0 days 00:01:32.763000</td>\n",
       "      <td>2.0</td>\n",
       "      <td>1.0</td>\n",
       "      <td>NaT</td>\n",
       "      <td>NaT</td>\n",
       "      <td>0 days 00:00:29.750000</td>\n",
       "      <td>0 days 00:00:39.784000</td>\n",
       "      <td>...</td>\n",
       "      <td>False</td>\n",
       "      <td>McLaren</td>\n",
       "      <td>0 days 06:12:58.611000</td>\n",
       "      <td>2025-02-27 12:57:58.623</td>\n",
       "      <td>1</td>\n",
       "      <td>NaN</td>\n",
       "      <td>None</td>\n",
       "      <td></td>\n",
       "      <td>False</td>\n",
       "      <td>True</td>\n",
       "    </tr>\n",
       "    <tr>\n",
       "      <th>3</th>\n",
       "      <td>0 days 06:18:21.495000</td>\n",
       "      <td>NOR</td>\n",
       "      <td>4</td>\n",
       "      <td>0 days 00:01:36.094000</td>\n",
       "      <td>4.0</td>\n",
       "      <td>1.0</td>\n",
       "      <td>NaT</td>\n",
       "      <td>0 days 06:18:19.754000</td>\n",
       "      <td>0 days 00:00:29.673000</td>\n",
       "      <td>0 days 00:00:39.628000</td>\n",
       "      <td>...</td>\n",
       "      <td>False</td>\n",
       "      <td>McLaren</td>\n",
       "      <td>0 days 06:16:45.401000</td>\n",
       "      <td>2025-02-27 13:01:45.413</td>\n",
       "      <td>1</td>\n",
       "      <td>NaN</td>\n",
       "      <td>None</td>\n",
       "      <td></td>\n",
       "      <td>False</td>\n",
       "      <td>False</td>\n",
       "    </tr>\n",
       "    <tr>\n",
       "      <th>5</th>\n",
       "      <td>0 days 06:27:27.836000</td>\n",
       "      <td>NOR</td>\n",
       "      <td>4</td>\n",
       "      <td>0 days 00:01:30.882000</td>\n",
       "      <td>6.0</td>\n",
       "      <td>2.0</td>\n",
       "      <td>NaT</td>\n",
       "      <td>NaT</td>\n",
       "      <td>0 days 00:00:29.372000</td>\n",
       "      <td>0 days 00:00:38.886000</td>\n",
       "      <td>...</td>\n",
       "      <td>True</td>\n",
       "      <td>McLaren</td>\n",
       "      <td>0 days 06:25:56.954000</td>\n",
       "      <td>2025-02-27 13:10:56.966</td>\n",
       "      <td>1</td>\n",
       "      <td>NaN</td>\n",
       "      <td>None</td>\n",
       "      <td></td>\n",
       "      <td>False</td>\n",
       "      <td>True</td>\n",
       "    </tr>\n",
       "    <tr>\n",
       "      <th>11</th>\n",
       "      <td>0 days 07:02:32.089000</td>\n",
       "      <td>NOR</td>\n",
       "      <td>4</td>\n",
       "      <td>0 days 00:01:36.037000</td>\n",
       "      <td>12.0</td>\n",
       "      <td>5.0</td>\n",
       "      <td>NaT</td>\n",
       "      <td>NaT</td>\n",
       "      <td>0 days 00:00:30.884000</td>\n",
       "      <td>0 days 00:00:41.480000</td>\n",
       "      <td>...</td>\n",
       "      <td>False</td>\n",
       "      <td>McLaren</td>\n",
       "      <td>0 days 07:00:56.052000</td>\n",
       "      <td>2025-02-27 13:45:56.064</td>\n",
       "      <td>1</td>\n",
       "      <td>NaN</td>\n",
       "      <td>None</td>\n",
       "      <td></td>\n",
       "      <td>False</td>\n",
       "      <td>True</td>\n",
       "    </tr>\n",
       "    <tr>\n",
       "      <th>12</th>\n",
       "      <td>0 days 07:04:07.847000</td>\n",
       "      <td>NOR</td>\n",
       "      <td>4</td>\n",
       "      <td>0 days 00:01:35.758000</td>\n",
       "      <td>13.0</td>\n",
       "      <td>5.0</td>\n",
       "      <td>NaT</td>\n",
       "      <td>NaT</td>\n",
       "      <td>0 days 00:00:30.742000</td>\n",
       "      <td>0 days 00:00:41.364000</td>\n",
       "      <td>...</td>\n",
       "      <td>False</td>\n",
       "      <td>McLaren</td>\n",
       "      <td>0 days 07:02:32.089000</td>\n",
       "      <td>2025-02-27 13:47:32.101</td>\n",
       "      <td>1</td>\n",
       "      <td>NaN</td>\n",
       "      <td>None</td>\n",
       "      <td></td>\n",
       "      <td>False</td>\n",
       "      <td>True</td>\n",
       "    </tr>\n",
       "  </tbody>\n",
       "</table>\n",
       "<p>5 rows × 31 columns</p>\n",
       "</div>"
      ],
      "text/plain": [
       "                     Time Driver DriverNumber                LapTime  \\\n",
       "1  0 days 06:14:31.374000    NOR            4 0 days 00:01:32.763000   \n",
       "3  0 days 06:18:21.495000    NOR            4 0 days 00:01:36.094000   \n",
       "5  0 days 06:27:27.836000    NOR            4 0 days 00:01:30.882000   \n",
       "11 0 days 07:02:32.089000    NOR            4 0 days 00:01:36.037000   \n",
       "12 0 days 07:04:07.847000    NOR            4 0 days 00:01:35.758000   \n",
       "\n",
       "    LapNumber  Stint PitOutTime              PitInTime            Sector1Time  \\\n",
       "1         2.0    1.0        NaT                    NaT 0 days 00:00:29.750000   \n",
       "3         4.0    1.0        NaT 0 days 06:18:19.754000 0 days 00:00:29.673000   \n",
       "5         6.0    2.0        NaT                    NaT 0 days 00:00:29.372000   \n",
       "11       12.0    5.0        NaT                    NaT 0 days 00:00:30.884000   \n",
       "12       13.0    5.0        NaT                    NaT 0 days 00:00:30.742000   \n",
       "\n",
       "              Sector2Time  ... FreshTyre     Team           LapStartTime  \\\n",
       "1  0 days 00:00:39.784000  ...     False  McLaren 0 days 06:12:58.611000   \n",
       "3  0 days 00:00:39.628000  ...     False  McLaren 0 days 06:16:45.401000   \n",
       "5  0 days 00:00:38.886000  ...      True  McLaren 0 days 06:25:56.954000   \n",
       "11 0 days 00:00:41.480000  ...     False  McLaren 0 days 07:00:56.052000   \n",
       "12 0 days 00:00:41.364000  ...     False  McLaren 0 days 07:02:32.089000   \n",
       "\n",
       "              LapStartDate  TrackStatus  Position  Deleted  DeletedReason  \\\n",
       "1  2025-02-27 12:57:58.623            1       NaN     None                  \n",
       "3  2025-02-27 13:01:45.413            1       NaN     None                  \n",
       "5  2025-02-27 13:10:56.966            1       NaN     None                  \n",
       "11 2025-02-27 13:45:56.064            1       NaN     None                  \n",
       "12 2025-02-27 13:47:32.101            1       NaN     None                  \n",
       "\n",
       "    FastF1Generated IsAccurate  \n",
       "1             False       True  \n",
       "3             False      False  \n",
       "5             False       True  \n",
       "11            False       True  \n",
       "12            False       True  \n",
       "\n",
       "[5 rows x 31 columns]"
      ]
     },
     "execution_count": 32,
     "metadata": {},
     "output_type": "execute_result"
    }
   ],
   "source": [
    "NOR = testing.laps.pick_drivers('NOR').pick_quicklaps()\n",
    "NOR.head()"
   ]
  },
  {
   "cell_type": "code",
   "execution_count": 26,
   "metadata": {},
   "outputs": [
    {
     "data": {
      "text/html": [
       "<div>\n",
       "<style scoped>\n",
       "    .dataframe tbody tr th:only-of-type {\n",
       "        vertical-align: middle;\n",
       "    }\n",
       "\n",
       "    .dataframe tbody tr th {\n",
       "        vertical-align: top;\n",
       "    }\n",
       "\n",
       "    .dataframe thead th {\n",
       "        text-align: right;\n",
       "    }\n",
       "</style>\n",
       "<table border=\"1\" class=\"dataframe\">\n",
       "  <thead>\n",
       "    <tr style=\"text-align: right;\">\n",
       "      <th></th>\n",
       "      <th>LapTime</th>\n",
       "    </tr>\n",
       "    <tr>\n",
       "      <th>Stint</th>\n",
       "      <th></th>\n",
       "    </tr>\n",
       "  </thead>\n",
       "  <tbody>\n",
       "    <tr>\n",
       "      <th>1.0</th>\n",
       "      <td>0 days 00:01:34.428500</td>\n",
       "    </tr>\n",
       "    <tr>\n",
       "      <th>2.0</th>\n",
       "      <td>0 days 00:01:30.882000</td>\n",
       "    </tr>\n",
       "    <tr>\n",
       "      <th>5.0</th>\n",
       "      <td>0 days 00:01:35.514277777</td>\n",
       "    </tr>\n",
       "    <tr>\n",
       "      <th>6.0</th>\n",
       "      <td>0 days 00:01:34.495588235</td>\n",
       "    </tr>\n",
       "    <tr>\n",
       "      <th>7.0</th>\n",
       "      <td>0 days 00:01:33.001000</td>\n",
       "    </tr>\n",
       "    <tr>\n",
       "      <th>9.0</th>\n",
       "      <td>0 days 00:01:32.275000</td>\n",
       "    </tr>\n",
       "    <tr>\n",
       "      <th>11.0</th>\n",
       "      <td>0 days 00:01:32.166000</td>\n",
       "    </tr>\n",
       "  </tbody>\n",
       "</table>\n",
       "</div>"
      ],
      "text/plain": [
       "                        LapTime\n",
       "Stint                          \n",
       "1.0      0 days 00:01:34.428500\n",
       "2.0      0 days 00:01:30.882000\n",
       "5.0   0 days 00:01:35.514277777\n",
       "6.0   0 days 00:01:34.495588235\n",
       "7.0      0 days 00:01:33.001000\n",
       "9.0      0 days 00:01:32.275000\n",
       "11.0     0 days 00:01:32.166000"
      ]
     },
     "execution_count": 26,
     "metadata": {},
     "output_type": "execute_result"
    }
   ],
   "source": [
    "NOR_Stints = NOR.groupby('Stint').agg({'LapTime': 'mean'})\n",
    "NOR_Stints"
   ]
  },
  {
   "cell_type": "code",
   "execution_count": 52,
   "metadata": {},
   "outputs": [
    {
     "data": {
      "text/html": [
       "<div>\n",
       "<style scoped>\n",
       "    .dataframe tbody tr th:only-of-type {\n",
       "        vertical-align: middle;\n",
       "    }\n",
       "\n",
       "    .dataframe tbody tr th {\n",
       "        vertical-align: top;\n",
       "    }\n",
       "\n",
       "    .dataframe thead th {\n",
       "        text-align: right;\n",
       "    }\n",
       "</style>\n",
       "<table border=\"1\" class=\"dataframe\">\n",
       "  <thead>\n",
       "    <tr style=\"text-align: right;\">\n",
       "      <th></th>\n",
       "      <th>driver</th>\n",
       "      <th>average_pace</th>\n",
       "    </tr>\n",
       "  </thead>\n",
       "  <tbody>\n",
       "  </tbody>\n",
       "</table>\n",
       "</div>"
      ],
      "text/plain": [
       "Empty DataFrame\n",
       "Columns: [driver, average_pace]\n",
       "Index: []"
      ]
     },
     "execution_count": 52,
     "metadata": {},
     "output_type": "execute_result"
    }
   ],
   "source": [
    "Run_Times = pd.DataFrame(columns = ['driver', 'average_pace'])\n",
    "Run_Times"
   ]
  },
  {
   "cell_type": "code",
   "execution_count": 53,
   "metadata": {},
   "outputs": [
    {
     "name": "stderr",
     "output_type": "stream",
     "text": [
      "/tmp/ipykernel_8202/3804828455.py:1: FutureWarning: The behavior of DataFrame concatenation with empty or all-NA entries is deprecated. In a future version, this will no longer exclude empty or all-NA columns when determining the result dtypes. To retain the old behavior, exclude the relevant entries before the concat operation.\n",
      "  Run_Times = pd.concat([Run_Times, pd.DataFrame({'driver':['NOR'], 'average_pace': [NOR[(5 <= NOR['Stint']) & (NOR['Stint'] <= 7)]['LapTime'].mean()]})], ignore_index=True)\n"
     ]
    },
    {
     "data": {
      "text/html": [
       "<div>\n",
       "<style scoped>\n",
       "    .dataframe tbody tr th:only-of-type {\n",
       "        vertical-align: middle;\n",
       "    }\n",
       "\n",
       "    .dataframe tbody tr th {\n",
       "        vertical-align: top;\n",
       "    }\n",
       "\n",
       "    .dataframe thead th {\n",
       "        text-align: right;\n",
       "    }\n",
       "</style>\n",
       "<table border=\"1\" class=\"dataframe\">\n",
       "  <thead>\n",
       "    <tr style=\"text-align: right;\">\n",
       "      <th></th>\n",
       "      <th>driver</th>\n",
       "      <th>average_pace</th>\n",
       "    </tr>\n",
       "  </thead>\n",
       "  <tbody>\n",
       "    <tr>\n",
       "      <th>0</th>\n",
       "      <td>NOR</td>\n",
       "      <td>0 days 00:01:34.333962264</td>\n",
       "    </tr>\n",
       "  </tbody>\n",
       "</table>\n",
       "</div>"
      ],
      "text/plain": [
       "  driver              average_pace\n",
       "0    NOR 0 days 00:01:34.333962264"
      ]
     },
     "execution_count": 53,
     "metadata": {},
     "output_type": "execute_result"
    }
   ],
   "source": [
    "Run_Times = pd.concat([Run_Times, pd.DataFrame({'driver':['NOR'], 'average_pace': [NOR[(5 <= NOR['Stint']) & (NOR['Stint'] <= 7)]['LapTime'].mean()]})], ignore_index=True)\n",
    "Run_Times"
   ]
  },
  {
   "cell_type": "code",
   "execution_count": 54,
   "metadata": {},
   "outputs": [
    {
     "data": {
      "text/html": [
       "<div>\n",
       "<style scoped>\n",
       "    .dataframe tbody tr th:only-of-type {\n",
       "        vertical-align: middle;\n",
       "    }\n",
       "\n",
       "    .dataframe tbody tr th {\n",
       "        vertical-align: top;\n",
       "    }\n",
       "\n",
       "    .dataframe thead th {\n",
       "        text-align: right;\n",
       "    }\n",
       "</style>\n",
       "<table border=\"1\" class=\"dataframe\">\n",
       "  <thead>\n",
       "    <tr style=\"text-align: right;\">\n",
       "      <th></th>\n",
       "      <th>driver</th>\n",
       "      <th>average_pace</th>\n",
       "    </tr>\n",
       "  </thead>\n",
       "  <tbody>\n",
       "    <tr>\n",
       "      <th>0</th>\n",
       "      <td>NOR</td>\n",
       "      <td>0 days 00:01:34.333962264</td>\n",
       "    </tr>\n",
       "    <tr>\n",
       "      <th>1</th>\n",
       "      <td>LEC</td>\n",
       "      <td>0 days 00:01:34.609790697</td>\n",
       "    </tr>\n",
       "  </tbody>\n",
       "</table>\n",
       "</div>"
      ],
      "text/plain": [
       "  driver              average_pace\n",
       "0    NOR 0 days 00:01:34.333962264\n",
       "1    LEC 0 days 00:01:34.609790697"
      ]
     },
     "execution_count": 54,
     "metadata": {},
     "output_type": "execute_result"
    }
   ],
   "source": [
    "LEC = testing.laps.pick_drivers('LEC').pick_quicklaps()\n",
    "Run_Times = pd.concat([Run_Times, pd.DataFrame({'driver':['LEC'], 'average_pace': [LEC[(7 <= LEC['Stint']) & (LEC['Stint'] <= 9)]['LapTime'].mean()]})], ignore_index=True)\n",
    "Run_Times"
   ]
  },
  {
   "cell_type": "code",
   "execution_count": 55,
   "metadata": {},
   "outputs": [
    {
     "data": {
      "text/html": [
       "<div>\n",
       "<style scoped>\n",
       "    .dataframe tbody tr th:only-of-type {\n",
       "        vertical-align: middle;\n",
       "    }\n",
       "\n",
       "    .dataframe tbody tr th {\n",
       "        vertical-align: top;\n",
       "    }\n",
       "\n",
       "    .dataframe thead th {\n",
       "        text-align: right;\n",
       "    }\n",
       "</style>\n",
       "<table border=\"1\" class=\"dataframe\">\n",
       "  <thead>\n",
       "    <tr style=\"text-align: right;\">\n",
       "      <th></th>\n",
       "      <th>driver</th>\n",
       "      <th>average_pace</th>\n",
       "    </tr>\n",
       "  </thead>\n",
       "  <tbody>\n",
       "    <tr>\n",
       "      <th>0</th>\n",
       "      <td>NOR</td>\n",
       "      <td>0 days 00:01:34.333962264</td>\n",
       "    </tr>\n",
       "    <tr>\n",
       "      <th>1</th>\n",
       "      <td>LEC</td>\n",
       "      <td>0 days 00:01:34.609790697</td>\n",
       "    </tr>\n",
       "    <tr>\n",
       "      <th>2</th>\n",
       "      <td>ANT</td>\n",
       "      <td>0 days 00:01:34.810255319</td>\n",
       "    </tr>\n",
       "  </tbody>\n",
       "</table>\n",
       "</div>"
      ],
      "text/plain": [
       "  driver              average_pace\n",
       "0    NOR 0 days 00:01:34.333962264\n",
       "1    LEC 0 days 00:01:34.609790697\n",
       "2    ANT 0 days 00:01:34.810255319"
      ]
     },
     "execution_count": 55,
     "metadata": {},
     "output_type": "execute_result"
    }
   ],
   "source": [
    "ANT = testing.laps.pick_drivers('ANT').pick_quicklaps()\n",
    "Run_Times = pd.concat([Run_Times, pd.DataFrame({'driver':['ANT'], 'average_pace': [ANT[(12 <= ANT['Stint']) & (ANT['Stint'] <= 14)]['LapTime'].mean()\n",
    "]})], ignore_index=True)\n",
    "Run_Times"
   ]
  },
  {
   "cell_type": "code",
   "execution_count": 56,
   "metadata": {},
   "outputs": [
    {
     "data": {
      "text/html": [
       "<div>\n",
       "<style scoped>\n",
       "    .dataframe tbody tr th:only-of-type {\n",
       "        vertical-align: middle;\n",
       "    }\n",
       "\n",
       "    .dataframe tbody tr th {\n",
       "        vertical-align: top;\n",
       "    }\n",
       "\n",
       "    .dataframe thead th {\n",
       "        text-align: right;\n",
       "    }\n",
       "</style>\n",
       "<table border=\"1\" class=\"dataframe\">\n",
       "  <thead>\n",
       "    <tr style=\"text-align: right;\">\n",
       "      <th></th>\n",
       "      <th>driver</th>\n",
       "      <th>average_pace</th>\n",
       "    </tr>\n",
       "  </thead>\n",
       "  <tbody>\n",
       "    <tr>\n",
       "      <th>0</th>\n",
       "      <td>NOR</td>\n",
       "      <td>0 days 00:01:34.333962264</td>\n",
       "    </tr>\n",
       "    <tr>\n",
       "      <th>1</th>\n",
       "      <td>LEC</td>\n",
       "      <td>0 days 00:01:34.609790697</td>\n",
       "    </tr>\n",
       "    <tr>\n",
       "      <th>2</th>\n",
       "      <td>ANT</td>\n",
       "      <td>0 days 00:01:34.810255319</td>\n",
       "    </tr>\n",
       "    <tr>\n",
       "      <th>3</th>\n",
       "      <td>BOR</td>\n",
       "      <td>0 days 00:01:36.046980392</td>\n",
       "    </tr>\n",
       "  </tbody>\n",
       "</table>\n",
       "</div>"
      ],
      "text/plain": [
       "  driver              average_pace\n",
       "0    NOR 0 days 00:01:34.333962264\n",
       "1    LEC 0 days 00:01:34.609790697\n",
       "2    ANT 0 days 00:01:34.810255319\n",
       "3    BOR 0 days 00:01:36.046980392"
      ]
     },
     "execution_count": 56,
     "metadata": {},
     "output_type": "execute_result"
    }
   ],
   "source": [
    "BOR = testing.laps.pick_drivers('BOR').pick_quicklaps()\n",
    "Run_Times = pd.concat([Run_Times, pd.DataFrame({'driver':['BOR'], 'average_pace': [BOR[(7 <= BOR['Stint']) & (BOR['Stint'] <= 9)]['LapTime'].mean()\n",
    "]})], ignore_index=True)\n",
    "Run_Times"
   ]
  },
  {
   "cell_type": "code",
   "execution_count": 58,
   "metadata": {},
   "outputs": [
    {
     "data": {
      "text/html": [
       "<div>\n",
       "<style scoped>\n",
       "    .dataframe tbody tr th:only-of-type {\n",
       "        vertical-align: middle;\n",
       "    }\n",
       "\n",
       "    .dataframe tbody tr th {\n",
       "        vertical-align: top;\n",
       "    }\n",
       "\n",
       "    .dataframe thead th {\n",
       "        text-align: right;\n",
       "    }\n",
       "</style>\n",
       "<table border=\"1\" class=\"dataframe\">\n",
       "  <thead>\n",
       "    <tr style=\"text-align: right;\">\n",
       "      <th></th>\n",
       "      <th>driver</th>\n",
       "      <th>average_pace</th>\n",
       "      <th>NOR%</th>\n",
       "      <th>total_seconds</th>\n",
       "    </tr>\n",
       "  </thead>\n",
       "  <tbody>\n",
       "    <tr>\n",
       "      <th>0</th>\n",
       "      <td>NOR</td>\n",
       "      <td>0 days 00:01:34.333962264</td>\n",
       "      <td>1.0</td>\n",
       "      <td>94.333962</td>\n",
       "    </tr>\n",
       "    <tr>\n",
       "      <th>1</th>\n",
       "      <td>LEC</td>\n",
       "      <td>0 days 00:01:34.609790697</td>\n",
       "      <td>NaN</td>\n",
       "      <td>94.609791</td>\n",
       "    </tr>\n",
       "    <tr>\n",
       "      <th>2</th>\n",
       "      <td>ANT</td>\n",
       "      <td>0 days 00:01:34.810255319</td>\n",
       "      <td>NaN</td>\n",
       "      <td>94.810255</td>\n",
       "    </tr>\n",
       "    <tr>\n",
       "      <th>3</th>\n",
       "      <td>BOR</td>\n",
       "      <td>0 days 00:01:36.046980392</td>\n",
       "      <td>NaN</td>\n",
       "      <td>96.046980</td>\n",
       "    </tr>\n",
       "  </tbody>\n",
       "</table>\n",
       "</div>"
      ],
      "text/plain": [
       "  driver              average_pace  NOR%  total_seconds\n",
       "0    NOR 0 days 00:01:34.333962264   1.0      94.333962\n",
       "1    LEC 0 days 00:01:34.609790697   NaN      94.609791\n",
       "2    ANT 0 days 00:01:34.810255319   NaN      94.810255\n",
       "3    BOR 0 days 00:01:36.046980392   NaN      96.046980"
      ]
     },
     "execution_count": 58,
     "metadata": {},
     "output_type": "execute_result"
    }
   ],
   "source": [
    "Run_Times['total_seconds'] = Run_Times['average_pace'].dt.total_seconds()\n",
    "Run_Times"
   ]
  },
  {
   "cell_type": "code",
   "execution_count": 61,
   "metadata": {},
   "outputs": [
    {
     "data": {
      "text/html": [
       "<div>\n",
       "<style scoped>\n",
       "    .dataframe tbody tr th:only-of-type {\n",
       "        vertical-align: middle;\n",
       "    }\n",
       "\n",
       "    .dataframe tbody tr th {\n",
       "        vertical-align: top;\n",
       "    }\n",
       "\n",
       "    .dataframe thead th {\n",
       "        text-align: right;\n",
       "    }\n",
       "</style>\n",
       "<table border=\"1\" class=\"dataframe\">\n",
       "  <thead>\n",
       "    <tr style=\"text-align: right;\">\n",
       "      <th></th>\n",
       "      <th>driver</th>\n",
       "      <th>average_pace</th>\n",
       "      <th>NOR%</th>\n",
       "      <th>total_seconds</th>\n",
       "    </tr>\n",
       "  </thead>\n",
       "  <tbody>\n",
       "    <tr>\n",
       "      <th>0</th>\n",
       "      <td>NOR</td>\n",
       "      <td>0 days 00:01:34.333962264</td>\n",
       "      <td>100.000000</td>\n",
       "      <td>94.333962</td>\n",
       "    </tr>\n",
       "    <tr>\n",
       "      <th>1</th>\n",
       "      <td>LEC</td>\n",
       "      <td>0 days 00:01:34.609790697</td>\n",
       "      <td>100.292396</td>\n",
       "      <td>94.609791</td>\n",
       "    </tr>\n",
       "    <tr>\n",
       "      <th>2</th>\n",
       "      <td>ANT</td>\n",
       "      <td>0 days 00:01:34.810255319</td>\n",
       "      <td>100.504901</td>\n",
       "      <td>94.810255</td>\n",
       "    </tr>\n",
       "    <tr>\n",
       "      <th>3</th>\n",
       "      <td>BOR</td>\n",
       "      <td>0 days 00:01:36.046980392</td>\n",
       "      <td>101.815908</td>\n",
       "      <td>96.046980</td>\n",
       "    </tr>\n",
       "  </tbody>\n",
       "</table>\n",
       "</div>"
      ],
      "text/plain": [
       "  driver              average_pace        NOR%  total_seconds\n",
       "0    NOR 0 days 00:01:34.333962264  100.000000      94.333962\n",
       "1    LEC 0 days 00:01:34.609790697  100.292396      94.609791\n",
       "2    ANT 0 days 00:01:34.810255319  100.504901      94.810255\n",
       "3    BOR 0 days 00:01:36.046980392  101.815908      96.046980"
      ]
     },
     "execution_count": 61,
     "metadata": {},
     "output_type": "execute_result"
    }
   ],
   "source": [
    "Run_Times['NOR%'] = (Run_Times['total_seconds'] / Run_Times.loc[Run_Times['driver'] == 'NOR', 'total_seconds'].item()) * 100\n",
    "Run_Times"
   ]
  },
  {
   "cell_type": "code",
   "execution_count": 60,
   "metadata": {},
   "outputs": [
    {
     "data": {
      "text/plain": [
       "dtype('float64')"
      ]
     },
     "execution_count": 60,
     "metadata": {},
     "output_type": "execute_result"
    }
   ],
   "source": [
    "Run_Times['total_seconds'].dtype"
   ]
  },
  {
   "cell_type": "code",
   "execution_count": null,
   "metadata": {},
   "outputs": [],
   "source": []
  },
  {
   "cell_type": "markdown",
   "metadata": {},
   "source": []
  }
 ],
 "metadata": {
  "kernelspec": {
   "display_name": "R_env",
   "language": "python",
   "name": "python3"
  },
  "language_info": {
   "codemirror_mode": {
    "name": "ipython",
    "version": 3
   },
   "file_extension": ".py",
   "mimetype": "text/x-python",
   "name": "python",
   "nbconvert_exporter": "python",
   "pygments_lexer": "ipython3",
   "version": "3.9.18"
  }
 },
 "nbformat": 4,
 "nbformat_minor": 2
}
